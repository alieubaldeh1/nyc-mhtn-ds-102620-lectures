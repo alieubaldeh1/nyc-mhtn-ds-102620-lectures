{
 "cells": [
  {
   "cell_type": "markdown",
   "metadata": {},
   "source": [
    "# Introduction to Database - SQL\n",
    "\n",
    "_November 2, 2020_\n",
    "\n",
    "Agenda today:\n",
    "- Overview of databases\n",
    "- Discuss Differences between SQL DBs\n",
    "- Explain the basic structures of a RDBMS\n",
    "- Instantiate SQLite DB instance on your computer & perform queries\n",
    "\n",
    "Learning Goals:\n",
    "- Explain the motivations and usage of different databases\n",
    "- Create a sqlite instance and perform different queries:\n",
    "    - Selecting\n",
    "    - Filtering & Ordering\n",
    "    - Grouping\n",
    "    - Join"
   ]
  },
  {
   "cell_type": "markdown",
   "metadata": {},
   "source": [
    "<img src=\"https://media.giphy.com/media/vzO0Vc8b2VBLi/giphy.gif\" width = 300;>"
   ]
  },
  {
   "cell_type": "code",
   "execution_count": 1,
   "metadata": {},
   "outputs": [],
   "source": [
    "import pandas as pd\n",
    "import numpy as np\n",
    "import sqlite3"
   ]
  },
  {
   "cell_type": "markdown",
   "metadata": {},
   "source": [
    "## Part I. Overview of Database\n",
    "\n",
    "### What is a Database?\n",
    "- In general, databases store sets of data that can be queried for use in other applications. A database management system supports the development, administration and use of database platforms."
   ]
  },
  {
   "cell_type": "markdown",
   "metadata": {},
   "source": [
    "### What is a Relational Database? \n",
    "- An relational database management system (RDBMS) is a type of DBMS with a row-based table structure that connects related data elements and includes functions that maintain the security, accuracy, integrity and consistency of the data.\n",
    "- The most basic RDBMS functions are related to create, read, update and delete operations, collectively known as CRUD."
   ]
  },
  {
   "cell_type": "markdown",
   "metadata": {},
   "source": [
    "### What is SQL?\n",
    "\n",
    "- SQL (usually pronounced like the word “sequel”) stands for Structured Query Language.\n",
    "- A programming language used to communicate with data stored in a relational database management system.\n",
    "- SQL syntax is similar to the English language, which makes it relatively easy to write, read, and interpret."
   ]
  },
  {
   "cell_type": "markdown",
   "metadata": {},
   "source": [
    "## Part II. POPULAR RDBMS\n",
    "\n",
    "- SQLite\n",
    "- MySQL\n",
    "- PostgreSql\n",
    "- Oracle DB\n",
    "- SQL Server"
   ]
  },
  {
   "cell_type": "markdown",
   "metadata": {},
   "source": [
    "### SQLite\n",
    "\n",
    "- SQLite is a popular open source SQL database. \n",
    "- It can store an entire database in a single file.\n",
    "- It is 'lite' because it is not server based.\n",
    "- Does not have many features of server-based RDBMS like users and permissions.\n",
    "- Great to get up and running quick, not good for complex projects.\n",
    "\n",
    "### MySQL\n",
    "\n",
    "- MySQL is the most popular open source SQL database. \n",
    "- It is typically used for web application development, and often accessed using PHP. \n",
    "- It is easy to use, inexpensive, reliable and has a large community of developers who can help answer questions.\n",
    "- Open source development has lagged since Oracle has taken control of MySQL.\n",
    "- Has been known to suffer from poor performance when scaling, \n",
    "- Does not include some advanced features that developers may be used to.\n",
    "\n",
    "### PostgreSQL\n",
    "\n",
    "- PostgreSQL is an open-source SQL database that is not controlled by any corporation.\n",
    "- PostgreSQL shares many of the same advantages of MySQL.\n",
    "- It is slower in performance than other databases such as MySQL\n",
    "- Harder to come by hosts or service providers that offer managed PostgreSQL instances. \n",
    "\n",
    "### Oracle DB\n",
    "\n",
    "- Owned by Oracle Corporation, and the code is not open sourced. \n",
    "- Oracle DB is for large applications, particularly in the banking industry. \n",
    "- The main disadvantage of using Oracle is that it is not free.\n",
    "\n",
    "### SQL Server\n",
    "\n",
    "- Microsoft owns SQL Server. \n",
    "- Large enterprise applications mostly use SQL Server.\n",
    "- Microsoft offers a free entry-level version called Express but can become very expensive as you scale your application. "
   ]
  },
  {
   "cell_type": "markdown",
   "metadata": {},
   "source": [
    "## Part III. Structures of RDBMS\n",
    "- Tables\n",
    "- Indexes\n",
    "- Triggers\n",
    "\n",
    "#### Tables\n",
    "Tables are used to store data within the database.  They are its main component and without them, the database would serve little purpose. \n",
    "\n",
    "- Tables can have hundreds, thousands, sometimes even millions of rows of data. These rows are often called **records**.\n",
    "- The consists of **columns** of data that are labeled with a descriptive name (say, age for example) and have a specific data type.\n",
    "\n",
    "### Indexes\n",
    "Indexes are used to make data retrieval faster. Rather than having to scan an entire table for data, an index allows the database to, essentially, directly retrieve the data being asked of it.\n",
    "\n",
    "Indexes are primariy created using using a **Primary Key**.\n",
    "A primary key’s main features are:\n",
    "\n",
    "- It must contain a unique value for each row of data.\n",
    "- It cannot contain null values.\n",
    "\n",
    "A primary key is either an existing table column or a column that is specifically generated by the database according to a defined sequence.\n",
    "\n",
    "**Question for You**\n",
    "\n",
    "If you were a tax accountant and you wanted to create a database of your clients, which of the following columns who be a good choice for your primary key?\n",
    "\n",
    "- First Name\n",
    "- Last Name\n",
    "- Email Address\n",
    "- SSN\n",
    "- Phone Number\n",
    "\n",
    "### Triggers\n",
    "\n",
    "Triggers are special instructions that are executed when important events, such as inserting or updating records in a table happen. The most common triggers are Insert, Update, and Delete triggers.  \n",
    "\n",
    "Two items define a trigger on a table: a stored procedure and an event, such as inserting a record that invokes its execution."
   ]
  },
  {
   "cell_type": "markdown",
   "metadata": {},
   "source": [
    "## Part IV. Working with SQLite in Python\n",
    "\n",
    "SQLite comes standard with Python so all you need to do to get it set up is write:\n",
    "\n",
    "`import sqlite3`\n",
    "\n",
    "### Creating a Connection\n",
    "\n",
    "Before you can do anything with your DB, you must first create a connection with it. For DBs that are server based, this can be more coplicated requiring you to know the server ip, a username, password database name, and port. \n",
    "``` python \n",
    "import sqlite3\n",
    "conn = sqlite3.connect(host=host, user=user, passwd=passwd, db=db)\n",
    "```"
   ]
  },
  {
   "cell_type": "code",
   "execution_count": 2,
   "metadata": {},
   "outputs": [],
   "source": [
    "## instantiate a sql instance on your local computer \n",
    "import sqlite3\n",
    "\n",
    "# we then need to establish a connection object that represent the database\n",
    "conn = sqlite3.connect('aggregate.db')\n",
    "\n",
    "# we then create a cursor that allow us to interact with, and create sql commands\n",
    "c = conn.cursor()"
   ]
  },
  {
   "cell_type": "code",
   "execution_count": 3,
   "metadata": {},
   "outputs": [
    {
     "name": "stdout",
     "output_type": "stream",
     "text": [
      "Data_Viz.ipynb                aq.csv\r\n",
      "Intro_to_SQL.ipynb            \u001b[31mauto-mpg.csv\u001b[m\u001b[m\r\n",
      "Intro_to_libraries_1.ipynb    figure-axes.png\r\n",
      "Pandas_II.ipynb               readme.md\r\n",
      "Pandas_III.ipynb              sql-joins-better.png\r\n",
      "Python_Fundamentals.ipynb     sql-joins.png\r\n",
      "Statistics_Fundamentals.ipynb stack.png\r\n",
      "aggregate.db                  unstack.png\r\n"
     ]
    }
   ],
   "source": [
    "!ls"
   ]
  },
  {
   "cell_type": "markdown",
   "metadata": {},
   "source": [
    "#### Selecting \n",
    "\n",
    "Syntax:\n",
    "\n",
    "`SELECT * From table`"
   ]
  },
  {
   "cell_type": "code",
   "execution_count": 4,
   "metadata": {},
   "outputs": [
    {
     "ename": "OperationalError",
     "evalue": "table students already exists",
     "output_type": "error",
     "traceback": [
      "\u001b[0;31m---------------------------------------------------------------------------\u001b[0m",
      "\u001b[0;31mOperationalError\u001b[0m                          Traceback (most recent call last)",
      "\u001b[0;32m<ipython-input-4-3a0c882bebf9>\u001b[0m in \u001b[0;36m<module>\u001b[0;34m()\u001b[0m\n\u001b[1;32m      5\u001b[0m             \u001b[0mnum_siblings\u001b[0m \u001b[0minteger\u001b[0m\u001b[0;34m\u001b[0m\u001b[0;34m\u001b[0m\u001b[0m\n\u001b[1;32m      6\u001b[0m             )\"\"\"\n\u001b[0;32m----> 7\u001b[0;31m \u001b[0mc\u001b[0m\u001b[0;34m.\u001b[0m\u001b[0mexecute\u001b[0m\u001b[0;34m(\u001b[0m\u001b[0mquery\u001b[0m\u001b[0;34m)\u001b[0m\u001b[0;34m\u001b[0m\u001b[0;34m\u001b[0m\u001b[0m\n\u001b[0m",
      "\u001b[0;31mOperationalError\u001b[0m: table students already exists"
     ]
    }
   ],
   "source": [
    "# to execute a command use c.execute(query)\n",
    "query = \"\"\"CREATE TABLE students (\n",
    "            first_name text,\n",
    "            birth_date text,\n",
    "            num_siblings integer\n",
    "            )\"\"\"\n",
    "c.execute(query)"
   ]
  },
  {
   "cell_type": "code",
   "execution_count": 6,
   "metadata": {},
   "outputs": [],
   "source": [
    "# insert some values into it \n",
    "query = \"\"\"INSERT INTO students VALUES('Justin','02-21',2)\"\"\"\n",
    "c.execute(query)\n",
    "conn.commit()\n"
   ]
  },
  {
   "cell_type": "code",
   "execution_count": null,
   "metadata": {},
   "outputs": [],
   "source": [
    "# write a query that insert your information into it - student 1\n",
    "query = \"\"\"INSERT INTO students VALUES('Joe','10-31',2)\"\"\"\n",
    "c.execute(query)\n",
    "conn.commit()"
   ]
  },
  {
   "cell_type": "code",
   "execution_count": 7,
   "metadata": {},
   "outputs": [],
   "source": [
    "# write a query that insert your information into it - student 2\n",
    "query = \"\"\"INSERT INTO students VALUES('Alan','11-18',2)\"\"\"\n",
    "c.execute(query)\n",
    "conn.commit()"
   ]
  },
  {
   "cell_type": "code",
   "execution_count": 8,
   "metadata": {},
   "outputs": [],
   "source": [
    "# write a query that insert your information into it - student 3\n",
    "query = \"\"\"INSERT INTO students VALUES('Alieu','08-19',4)\"\"\"\n",
    "c.execute(query)\n",
    "conn.commit()"
   ]
  },
  {
   "cell_type": "code",
   "execution_count": null,
   "metadata": {},
   "outputs": [],
   "source": [
    "### optional level up - write a loop that dynamically put a dictionary or a list into the table in db\n",
    "student_info = {\"first_name\":['','','',''],\n",
    "               \"birth_date\":[],\n",
    "               \"num_siblings\":[]}\n",
    "\n",
    "# pseudocode - \n",
    "'''\n",
    "for student in student_info:\n",
    " c.execute(\"\"\"insert into __ Values())\n",
    " conn.commit()\n",
    "'''"
   ]
  },
  {
   "cell_type": "code",
   "execution_count": 10,
   "metadata": {
    "scrolled": true
   },
   "outputs": [],
   "source": [
    "# selecting all students info from student table\n",
    "query = \"\"\"SELECT * FROM students\n",
    "\"\"\"\n",
    "\n",
    "students_info_sql = c.execute(query).fetchall()\n",
    "\n",
    "# fetchall"
   ]
  },
  {
   "cell_type": "code",
   "execution_count": 13,
   "metadata": {},
   "outputs": [
    {
     "data": {
      "text/plain": [
       "[('Justin', '02-21', 2), ('Alan', '11-18', 2), ('Alieu', '08-19', 4)]"
      ]
     },
     "execution_count": 13,
     "metadata": {},
     "output_type": "execute_result"
    }
   ],
   "source": [
    "students_info_sql"
   ]
  },
  {
   "cell_type": "code",
   "execution_count": 12,
   "metadata": {},
   "outputs": [
    {
     "data": {
      "text/plain": [
       "tuple"
      ]
     },
     "execution_count": 12,
     "metadata": {},
     "output_type": "execute_result"
    }
   ],
   "source": [
    "type(students_info_sql[0])"
   ]
  },
  {
   "cell_type": "code",
   "execution_count": 14,
   "metadata": {
    "scrolled": true
   },
   "outputs": [
    {
     "data": {
      "text/html": [
       "<div>\n",
       "<style scoped>\n",
       "    .dataframe tbody tr th:only-of-type {\n",
       "        vertical-align: middle;\n",
       "    }\n",
       "\n",
       "    .dataframe tbody tr th {\n",
       "        vertical-align: top;\n",
       "    }\n",
       "\n",
       "    .dataframe thead th {\n",
       "        text-align: right;\n",
       "    }\n",
       "</style>\n",
       "<table border=\"1\" class=\"dataframe\">\n",
       "  <thead>\n",
       "    <tr style=\"text-align: right;\">\n",
       "      <th></th>\n",
       "      <th>mpg</th>\n",
       "      <th>cylinders</th>\n",
       "      <th>displacement</th>\n",
       "      <th>horsepower</th>\n",
       "      <th>weight</th>\n",
       "      <th>acceleration</th>\n",
       "      <th>model year</th>\n",
       "      <th>origin</th>\n",
       "      <th>car name</th>\n",
       "    </tr>\n",
       "  </thead>\n",
       "  <tbody>\n",
       "    <tr>\n",
       "      <th>0</th>\n",
       "      <td>18.0</td>\n",
       "      <td>8</td>\n",
       "      <td>307.0</td>\n",
       "      <td>130</td>\n",
       "      <td>3504</td>\n",
       "      <td>12.0</td>\n",
       "      <td>70</td>\n",
       "      <td>1</td>\n",
       "      <td>chevrolet chevelle malibu</td>\n",
       "    </tr>\n",
       "    <tr>\n",
       "      <th>1</th>\n",
       "      <td>15.0</td>\n",
       "      <td>8</td>\n",
       "      <td>350.0</td>\n",
       "      <td>165</td>\n",
       "      <td>3693</td>\n",
       "      <td>11.5</td>\n",
       "      <td>70</td>\n",
       "      <td>1</td>\n",
       "      <td>buick skylark 320</td>\n",
       "    </tr>\n",
       "    <tr>\n",
       "      <th>2</th>\n",
       "      <td>18.0</td>\n",
       "      <td>8</td>\n",
       "      <td>318.0</td>\n",
       "      <td>150</td>\n",
       "      <td>3436</td>\n",
       "      <td>11.0</td>\n",
       "      <td>70</td>\n",
       "      <td>1</td>\n",
       "      <td>plymouth satellite</td>\n",
       "    </tr>\n",
       "    <tr>\n",
       "      <th>3</th>\n",
       "      <td>16.0</td>\n",
       "      <td>8</td>\n",
       "      <td>304.0</td>\n",
       "      <td>150</td>\n",
       "      <td>3433</td>\n",
       "      <td>12.0</td>\n",
       "      <td>70</td>\n",
       "      <td>1</td>\n",
       "      <td>amc rebel sst</td>\n",
       "    </tr>\n",
       "    <tr>\n",
       "      <th>4</th>\n",
       "      <td>17.0</td>\n",
       "      <td>8</td>\n",
       "      <td>302.0</td>\n",
       "      <td>140</td>\n",
       "      <td>3449</td>\n",
       "      <td>10.5</td>\n",
       "      <td>70</td>\n",
       "      <td>1</td>\n",
       "      <td>ford torino</td>\n",
       "    </tr>\n",
       "  </tbody>\n",
       "</table>\n",
       "</div>"
      ],
      "text/plain": [
       "    mpg  cylinders  displacement horsepower  weight  acceleration  model year  \\\n",
       "0  18.0          8         307.0        130    3504          12.0          70   \n",
       "1  15.0          8         350.0        165    3693          11.5          70   \n",
       "2  18.0          8         318.0        150    3436          11.0          70   \n",
       "3  16.0          8         304.0        150    3433          12.0          70   \n",
       "4  17.0          8         302.0        140    3449          10.5          70   \n",
       "\n",
       "   origin                   car name  \n",
       "0       1  chevrolet chevelle malibu  \n",
       "1       1          buick skylark 320  \n",
       "2       1         plymouth satellite  \n",
       "3       1              amc rebel sst  \n",
       "4       1                ford torino  "
      ]
     },
     "execution_count": 14,
     "metadata": {},
     "output_type": "execute_result"
    }
   ],
   "source": [
    "# let's insert some tables into sql and perform some queries!\n",
    "auto = pd.read_csv('auto-mpg.csv')\n",
    "auto.head()"
   ]
  },
  {
   "cell_type": "code",
   "execution_count": null,
   "metadata": {},
   "outputs": [],
   "source": []
  },
  {
   "cell_type": "code",
   "execution_count": 15,
   "metadata": {},
   "outputs": [
    {
     "name": "stderr",
     "output_type": "stream",
     "text": [
      "/Users/alieubaldeh/opt/anaconda3/envs/learn-env/lib/python3.6/site-packages/pandas/core/generic.py:2712: UserWarning: The spaces in these column names will not be changed. In pandas versions < 0.14, spaces were converted to underscores.\n",
      "  method=method,\n"
     ]
    }
   ],
   "source": [
    "# store auto into our existing database\n",
    "\n",
    "auto.to_sql('auto', con = conn)\n"
   ]
  },
  {
   "cell_type": "code",
   "execution_count": 16,
   "metadata": {},
   "outputs": [
    {
     "data": {
      "text/plain": [
       "[(8, 307.0),\n",
       " (8, 350.0),\n",
       " (8, 318.0),\n",
       " (8, 304.0),\n",
       " (8, 302.0),\n",
       " (8, 429.0),\n",
       " (8, 454.0),\n",
       " (8, 440.0),\n",
       " (8, 455.0),\n",
       " (8, 390.0),\n",
       " (8, 383.0),\n",
       " (8, 340.0),\n",
       " (8, 400.0),\n",
       " (8, 455.0),\n",
       " (4, 113.0),\n",
       " (6, 198.0),\n",
       " (6, 199.0),\n",
       " (6, 200.0),\n",
       " (4, 97.0),\n",
       " (4, 97.0),\n",
       " (4, 110.0),\n",
       " (4, 107.0),\n",
       " (4, 104.0),\n",
       " (4, 121.0),\n",
       " (6, 199.0),\n",
       " (8, 360.0),\n",
       " (8, 307.0),\n",
       " (8, 318.0),\n",
       " (8, 304.0),\n",
       " (4, 97.0),\n",
       " (4, 140.0),\n",
       " (4, 113.0),\n",
       " (4, 98.0),\n",
       " (6, 232.0),\n",
       " (6, 225.0),\n",
       " (6, 250.0),\n",
       " (6, 250.0),\n",
       " (6, 232.0),\n",
       " (8, 350.0),\n",
       " (8, 400.0),\n",
       " (8, 351.0),\n",
       " (8, 318.0),\n",
       " (8, 383.0),\n",
       " (8, 400.0),\n",
       " (8, 400.0),\n",
       " (6, 258.0),\n",
       " (4, 140.0),\n",
       " (6, 250.0),\n",
       " (6, 250.0),\n",
       " (4, 122.0),\n",
       " (4, 116.0),\n",
       " (4, 79.0),\n",
       " (4, 88.0),\n",
       " (4, 71.0),\n",
       " (4, 72.0),\n",
       " (4, 97.0),\n",
       " (4, 91.0),\n",
       " (4, 113.0),\n",
       " (4, 97.5),\n",
       " (4, 97.0),\n",
       " (4, 140.0),\n",
       " (4, 122.0),\n",
       " (8, 350.0),\n",
       " (8, 400.0),\n",
       " (8, 318.0),\n",
       " (8, 351.0),\n",
       " (8, 304.0),\n",
       " (8, 429.0),\n",
       " (8, 350.0),\n",
       " (8, 350.0),\n",
       " (8, 400.0),\n",
       " (3, 70.0),\n",
       " (8, 304.0),\n",
       " (8, 307.0),\n",
       " (8, 302.0),\n",
       " (8, 318.0),\n",
       " (4, 121.0),\n",
       " (4, 121.0),\n",
       " (4, 120.0),\n",
       " (4, 96.0),\n",
       " (4, 122.0),\n",
       " (4, 97.0),\n",
       " (4, 120.0),\n",
       " (4, 98.0),\n",
       " (4, 97.0),\n",
       " (8, 350.0),\n",
       " (8, 304.0),\n",
       " (8, 350.0),\n",
       " (8, 302.0),\n",
       " (8, 318.0),\n",
       " (8, 429.0),\n",
       " (8, 400.0),\n",
       " (8, 351.0),\n",
       " (8, 318.0),\n",
       " (8, 440.0),\n",
       " (8, 455.0),\n",
       " (8, 360.0),\n",
       " (6, 225.0),\n",
       " (6, 250.0),\n",
       " (6, 232.0),\n",
       " (6, 250.0),\n",
       " (6, 198.0),\n",
       " (4, 97.0),\n",
       " (8, 400.0),\n",
       " (8, 400.0),\n",
       " (8, 360.0),\n",
       " (8, 350.0),\n",
       " (6, 232.0),\n",
       " (4, 97.0),\n",
       " (4, 140.0),\n",
       " (4, 108.0),\n",
       " (3, 70.0),\n",
       " (4, 122.0),\n",
       " (6, 155.0),\n",
       " (4, 98.0),\n",
       " (8, 350.0),\n",
       " (8, 400.0),\n",
       " (4, 68.0),\n",
       " (4, 116.0),\n",
       " (4, 114.0),\n",
       " (4, 121.0),\n",
       " (8, 318.0),\n",
       " (4, 121.0),\n",
       " (6, 156.0),\n",
       " (8, 350.0),\n",
       " (6, 198.0),\n",
       " (6, 200.0),\n",
       " (6, 232.0),\n",
       " (6, 250.0),\n",
       " (4, 79.0),\n",
       " (4, 122.0),\n",
       " (4, 71.0),\n",
       " (4, 140.0),\n",
       " (6, 250.0),\n",
       " (6, 258.0),\n",
       " (6, 225.0),\n",
       " (8, 302.0),\n",
       " (8, 350.0),\n",
       " (8, 318.0),\n",
       " (8, 302.0),\n",
       " (8, 304.0),\n",
       " (4, 98.0),\n",
       " (4, 79.0),\n",
       " (4, 97.0),\n",
       " (4, 76.0),\n",
       " (4, 83.0),\n",
       " (4, 90.0),\n",
       " (4, 90.0),\n",
       " (4, 116.0),\n",
       " (4, 120.0),\n",
       " (4, 108.0),\n",
       " (4, 79.0),\n",
       " (6, 225.0),\n",
       " (6, 250.0),\n",
       " (6, 250.0),\n",
       " (6, 250.0),\n",
       " (8, 400.0),\n",
       " (8, 350.0),\n",
       " (8, 318.0),\n",
       " (8, 351.0),\n",
       " (6, 231.0),\n",
       " (6, 250.0),\n",
       " (6, 258.0),\n",
       " (6, 225.0),\n",
       " (6, 231.0),\n",
       " (8, 262.0),\n",
       " (8, 302.0),\n",
       " (4, 97.0),\n",
       " (4, 140.0),\n",
       " (6, 232.0),\n",
       " (4, 140.0),\n",
       " (4, 134.0),\n",
       " (4, 90.0),\n",
       " (4, 119.0),\n",
       " (6, 171.0),\n",
       " (4, 90.0),\n",
       " (6, 232.0),\n",
       " (4, 115.0),\n",
       " (4, 120.0),\n",
       " (4, 121.0),\n",
       " (4, 121.0),\n",
       " (4, 91.0),\n",
       " (4, 107.0),\n",
       " (4, 116.0),\n",
       " (4, 140.0),\n",
       " (4, 98.0),\n",
       " (4, 101.0),\n",
       " (8, 305.0),\n",
       " (8, 318.0),\n",
       " (8, 304.0),\n",
       " (8, 351.0),\n",
       " (6, 225.0),\n",
       " (6, 250.0),\n",
       " (6, 200.0),\n",
       " (6, 232.0),\n",
       " (4, 85.0),\n",
       " (4, 98.0),\n",
       " (4, 90.0),\n",
       " (4, 91.0),\n",
       " (6, 225.0),\n",
       " (6, 250.0),\n",
       " (6, 250.0),\n",
       " (6, 258.0),\n",
       " (4, 97.0),\n",
       " (4, 85.0),\n",
       " (4, 97.0),\n",
       " (4, 140.0),\n",
       " (4, 130.0),\n",
       " (8, 318.0),\n",
       " (4, 120.0),\n",
       " (6, 156.0),\n",
       " (6, 168.0),\n",
       " (8, 350.0),\n",
       " (8, 350.0),\n",
       " (8, 302.0),\n",
       " (8, 318.0),\n",
       " (4, 98.0),\n",
       " (4, 111.0),\n",
       " (4, 79.0),\n",
       " (4, 122.0),\n",
       " (4, 85.0),\n",
       " (8, 305.0),\n",
       " (8, 260.0),\n",
       " (8, 318.0),\n",
       " (8, 302.0),\n",
       " (6, 250.0),\n",
       " (6, 231.0),\n",
       " (6, 225.0),\n",
       " (6, 250.0),\n",
       " (8, 400.0),\n",
       " (8, 350.0),\n",
       " (8, 400.0),\n",
       " (8, 351.0),\n",
       " (4, 97.0),\n",
       " (4, 151.0),\n",
       " (4, 97.0),\n",
       " (4, 140.0),\n",
       " (4, 98.0),\n",
       " (4, 98.0),\n",
       " (4, 97.0),\n",
       " (4, 97.0),\n",
       " (6, 146.0),\n",
       " (4, 121.0),\n",
       " (3, 80.0),\n",
       " (4, 90.0),\n",
       " (4, 98.0),\n",
       " (4, 78.0),\n",
       " (4, 85.0),\n",
       " (4, 91.0),\n",
       " (8, 260.0),\n",
       " (8, 318.0),\n",
       " (8, 302.0),\n",
       " (6, 231.0),\n",
       " (6, 200.0),\n",
       " (6, 200.0),\n",
       " (4, 140.0),\n",
       " (6, 225.0),\n",
       " (6, 232.0),\n",
       " (6, 231.0),\n",
       " (6, 200.0),\n",
       " (6, 225.0),\n",
       " (6, 258.0),\n",
       " (8, 305.0),\n",
       " (6, 231.0),\n",
       " (8, 302.0),\n",
       " (8, 318.0),\n",
       " (4, 98.0),\n",
       " (4, 134.0),\n",
       " (4, 119.0),\n",
       " (4, 105.0),\n",
       " (4, 134.0),\n",
       " (4, 156.0),\n",
       " (4, 151.0),\n",
       " (4, 119.0),\n",
       " (5, 131.0),\n",
       " (6, 163.0),\n",
       " (4, 121.0),\n",
       " (6, 163.0),\n",
       " (4, 89.0),\n",
       " (4, 98.0),\n",
       " (6, 231.0),\n",
       " (6, 200.0),\n",
       " (4, 140.0),\n",
       " (6, 232.0),\n",
       " (6, 225.0),\n",
       " (8, 305.0),\n",
       " (8, 302.0),\n",
       " (8, 351.0),\n",
       " (8, 318.0),\n",
       " (8, 350.0),\n",
       " (8, 351.0),\n",
       " (8, 267.0),\n",
       " (8, 360.0),\n",
       " (4, 89.0),\n",
       " (4, 86.0),\n",
       " (4, 98.0),\n",
       " (4, 121.0),\n",
       " (5, 183.0),\n",
       " (8, 350.0),\n",
       " (4, 141.0),\n",
       " (8, 260.0),\n",
       " (4, 105.0),\n",
       " (4, 105.0),\n",
       " (4, 85.0),\n",
       " (4, 91.0),\n",
       " (4, 151.0),\n",
       " (6, 173.0),\n",
       " (6, 173.0),\n",
       " (4, 151.0),\n",
       " (4, 98.0),\n",
       " (4, 89.0),\n",
       " (4, 98.0),\n",
       " (4, 86.0),\n",
       " (4, 151.0),\n",
       " (4, 140.0),\n",
       " (4, 151.0),\n",
       " (6, 225.0),\n",
       " (4, 97.0),\n",
       " (4, 134.0),\n",
       " (4, 120.0),\n",
       " (4, 119.0),\n",
       " (4, 108.0),\n",
       " (4, 86.0),\n",
       " (4, 156.0),\n",
       " (4, 85.0),\n",
       " (4, 90.0),\n",
       " (4, 90.0),\n",
       " (5, 121.0),\n",
       " (4, 146.0),\n",
       " (4, 91.0),\n",
       " (4, 85.0),\n",
       " (4, 97.0),\n",
       " (4, 89.0),\n",
       " (6, 168.0),\n",
       " (3, 70.0),\n",
       " (4, 122.0),\n",
       " (4, 140.0),\n",
       " (4, 107.0),\n",
       " (4, 135.0),\n",
       " (4, 151.0),\n",
       " (4, 156.0),\n",
       " (6, 173.0),\n",
       " (4, 135.0),\n",
       " (4, 79.0),\n",
       " (4, 86.0),\n",
       " (4, 81.0),\n",
       " (4, 97.0),\n",
       " (4, 85.0),\n",
       " (4, 89.0),\n",
       " (4, 91.0),\n",
       " (4, 105.0),\n",
       " (4, 98.0),\n",
       " (4, 98.0),\n",
       " (4, 105.0),\n",
       " (4, 100.0),\n",
       " (4, 107.0),\n",
       " (4, 108.0),\n",
       " (4, 119.0),\n",
       " (4, 120.0),\n",
       " (4, 141.0),\n",
       " (6, 145.0),\n",
       " (6, 168.0),\n",
       " (6, 146.0),\n",
       " (6, 231.0),\n",
       " (8, 350.0),\n",
       " (6, 200.0),\n",
       " (6, 225.0),\n",
       " (4, 112.0),\n",
       " (4, 112.0),\n",
       " (4, 112.0),\n",
       " (4, 112.0),\n",
       " (4, 135.0),\n",
       " (4, 151.0),\n",
       " (4, 140.0),\n",
       " (4, 151.0),\n",
       " (4, 105.0),\n",
       " (4, 91.0),\n",
       " (4, 91.0),\n",
       " (4, 105.0),\n",
       " (4, 98.0),\n",
       " (4, 120.0),\n",
       " (4, 107.0),\n",
       " (4, 108.0),\n",
       " (4, 91.0),\n",
       " (4, 91.0),\n",
       " (4, 91.0),\n",
       " (6, 181.0),\n",
       " (6, 262.0),\n",
       " (4, 156.0),\n",
       " (6, 232.0),\n",
       " (4, 144.0),\n",
       " (4, 135.0),\n",
       " (4, 151.0),\n",
       " (4, 140.0),\n",
       " (4, 97.0),\n",
       " (4, 135.0),\n",
       " (4, 120.0),\n",
       " (4, 119.0)]"
      ]
     },
     "execution_count": 16,
     "metadata": {},
     "output_type": "execute_result"
    }
   ],
   "source": [
    "# select cylinders and displacement cols from table\n",
    "query = \"\"\"SELECT cylinders, displacement FROM auto\"\"\"\n",
    "c.execute(query).fetchall()"
   ]
  },
  {
   "cell_type": "markdown",
   "metadata": {},
   "source": [
    "#### Filtering\n",
    "Just like querying with Pandas, sometimes we want to select data that fit certain criteria. Sql queries also allow us to filter! We need to utilize the `WHERE` clause. \n",
    "`SELECT * from Table WHERE conditions (ORDER BY conditions DESC/ASC)`"
   ]
  },
  {
   "cell_type": "code",
   "execution_count": 20,
   "metadata": {},
   "outputs": [
    {
     "data": {
      "text/plain": [
       "168"
      ]
     },
     "execution_count": 20,
     "metadata": {},
     "output_type": "execute_result"
    }
   ],
   "source": [
    "# use pandas to select cars that weigh more than 3000 lbs\n",
    "query_1_pd = auto[auto.weight > 3000]\n",
    "len(query_1_pd)"
   ]
  },
  {
   "cell_type": "code",
   "execution_count": 21,
   "metadata": {},
   "outputs": [
    {
     "data": {
      "text/plain": [
       "168"
      ]
     },
     "execution_count": 21,
     "metadata": {},
     "output_type": "execute_result"
    }
   ],
   "source": [
    "# use sql \n",
    "query_1_sql = \"\"\"SELECT * FROM auto WHERE weight > 3000\"\"\"\n",
    "len(c.execute(query_1_sql).fetchall())\n"
   ]
  },
  {
   "cell_type": "code",
   "execution_count": 23,
   "metadata": {},
   "outputs": [
    {
     "data": {
      "text/plain": [
       "(187,)"
      ]
     },
     "execution_count": 23,
     "metadata": {},
     "output_type": "execute_result"
    }
   ],
   "source": [
    "# use pandas to select just the names of the cars where cylinders are greater than 5\n",
    "query_2_pd = auto[auto.cylinders > 5]['car name']\n",
    "# how many are there?\n",
    "query_2_pd.shape"
   ]
  },
  {
   "cell_type": "code",
   "execution_count": 26,
   "metadata": {},
   "outputs": [
    {
     "data": {
      "text/plain": [
       "187"
      ]
     },
     "execution_count": 26,
     "metadata": {},
     "output_type": "execute_result"
    }
   ],
   "source": [
    "# write the sql equivalent \n",
    "query_2_sql = \"\"\"SELECT [car name] FROM auto WHERE cylinders > 5\"\"\"\n",
    "len(c.execute(query_2_sql).fetchall())\n",
    "\n",
    "# what is happening here? Can we troubleshoot?"
   ]
  },
  {
   "cell_type": "code",
   "execution_count": 33,
   "metadata": {
    "scrolled": true
   },
   "outputs": [],
   "source": [
    "# exercise - use pandas to select the names of the cars which have mpg > 15 and cynlinder less than 7 and show \n",
    "# descending order by model year\n",
    "query_3_pd = auto[(auto.mpg > 15) & (auto.cylinders < 7)].sort_values(by = 'model year', ascending = False)['car name']"
   ]
  },
  {
   "cell_type": "code",
   "execution_count": 34,
   "metadata": {},
   "outputs": [
    {
     "data": {
      "text/plain": [
       "397                   chevy s-10\n",
       "382               toyota corolla\n",
       "367           chevrolet cavalier\n",
       "368     chevrolet cavalier wagon\n",
       "369    chevrolet cavalier 2-door\n",
       "                 ...            \n",
       "21                   audi 100 ls\n",
       "22                      saab 99e\n",
       "23                      bmw 2002\n",
       "24                   amc gremlin\n",
       "14         toyota corona mark ii\n",
       "Name: car name, Length: 291, dtype: object"
      ]
     },
     "execution_count": 34,
     "metadata": {},
     "output_type": "execute_result"
    }
   ],
   "source": [
    "query_3_pd"
   ]
  },
  {
   "cell_type": "code",
   "execution_count": 35,
   "metadata": {
    "scrolled": true
   },
   "outputs": [
    {
     "data": {
      "text/plain": [
       "[]"
      ]
     },
     "execution_count": 35,
     "metadata": {},
     "output_type": "execute_result"
    }
   ],
   "source": [
    "# write the sql equivalent\n",
    "query_3_sql = \"\"\"\"\"\"\n",
    "\n",
    "\"\"\"SELECT `car name` FROM auto  ",
    " WHERE mpg > 15 AND cylinders < 7 ",
    "ORDER BY `model year` DESC\"\"\"\n",
    "c.execute(query_3_sql).fetchall()"
   ]
  },
  {
   "cell_type": "markdown",
   "metadata": {},
   "source": [
    "### This afternoon:\n",
    "- Grouping\n",
    "- Joining"
   ]
  },
  {
   "cell_type": "markdown",
   "metadata": {},
   "source": [
    "#### Joining\n",
    "<img src ='sql-joins-better.png' width = 400>"
   ]
  }
 ],
 "metadata": {
  "kernelspec": {
   "display_name": "Python 3",
   "language": "python",
   "name": "python3"
  },
  "language_info": {
   "codemirror_mode": {
    "name": "ipython",
    "version": 3
   },
   "file_extension": ".py",
   "mimetype": "text/x-python",
   "name": "python",
   "nbconvert_exporter": "python",
   "pygments_lexer": "ipython3",
   "version": "3.6.9"
  }
 },
 "nbformat": 4,
 "nbformat_minor": 2
}
